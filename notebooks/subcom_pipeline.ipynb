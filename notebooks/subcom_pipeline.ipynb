{
 "cells": [
  {
   "cell_type": "markdown",
   "metadata": {},
   "source": [
    "# Anomaly Detection in System Call Traces\n",
    "\n",
    "This notebook demonstrates a methodology for detecting anomalies in system call traces using a combination of statistical and machine learning techniques. The primary goal is to distinguish between \"clean\" and \"infected\" traces. \n",
    "\n",
    "Note: there is an important gap between this pipeline's objective and Subcom's requirements. This pipeline runs a composition of machine learning and statistical techniques on the entire trace file of an application to determine whether it's a deviation from the trained model of \"a clean process\". Subcom requires a pipeline capable of determining this **online** on a habitual and context-dependent basis, while minimizing false positives.\n",
    "\n",
    "The pipeline has largely been implemented based on this paper: https://maggi.cc/publication/frossi_hybridsyscalls_2009/frossi_hybridsyscalls_2009.pdf\n",
    "\n",
    "Choice of clustering and temporal models can be changed. The central principle of the paper involves feature engineering system call information to obtain information richer than just the \"syscall names/indices\", and using the high-dimensional feature set to create informative sub-clusters for each syscall. The typical temporal pipeline can then be employed upon these clusters, treating them as observed states. The paper proposes additional enhancements relevant to the domain: **SOMs for pathname similarity, Buffer overflow detection by modelling string arg lengths, DoS detection with edge traversal frequencies.**\n",
    "\n",
    "*This notebook is experimental and has not been refined for production/documentation*"
   ]
  },
  {
   "cell_type": "code",
   "execution_count": 1,
   "metadata": {
    "id": "o4PklsnonxXs",
    "jupyter": {
     "is_executing": true
    }
   },
   "outputs": [],
   "source": [
    "import math\n",
    "import numpy as np\n",
    "import seaborn as sns\n",
    "import matplotlib.pyplot as plt"
   ]
  },
  {
   "cell_type": "code",
   "execution_count": 2,
   "metadata": {
    "ExecuteTime": {
     "end_time": "2024-06-07T17:53:20.439055Z",
     "start_time": "2024-06-07T17:53:19.398981Z"
    }
   },
   "outputs": [],
   "source": [
    "from project.utils import process_trace\n",
    "from project.trace_parser import list_files_in_folder,get_trace_text,parse_trace_text\n",
    "from project.preprocessing import padding\n",
    "from project.buffer_overflow import init_strlen_distribution, detect_str_outlier\n",
    "from project.string_anomaly_som import init_som, detect_string_anomaly_som\n",
    "from project.clustering import init_cluster_mapping, features_to_states\n",
    "from project.sequence_model import get_transition_probs\n",
    "from project.dos_detection import init_edge_frequencies\n",
    "from project.anomaly_detection import sequence_probability, initialize_pca"
   ]
  },
  {
   "cell_type": "markdown",
   "metadata": {
    "id": "3Z96QQuTsYy4"
   },
   "source": [
    "## Data Retrieval\n",
    "\n",
    "In this section, we retrieve and parse the system call traces from the specified folders. The traces are divided into \"clean\" and \"infected\" categories."
   ]
  },
  {
   "cell_type": "code",
   "execution_count": 3,
   "metadata": {
    "ExecuteTime": {
     "end_time": "2024-06-07T17:13:54.021203Z",
     "start_time": "2024-06-07T17:13:54.004123Z"
    },
    "id": "Mv8stf1npI4t"
   },
   "outputs": [],
   "source": [
    "traces_path = \"/Users/vismay/PycharmProjects/subcom_pipeline_research/Traces/\"\n",
    "\n",
    "clean_folder = traces_path+\"clean/\"\n",
    "trace_files_clean = list_files_in_folder(clean_folder)\n",
    "\n",
    "infected_folder = traces_path+\"infected/\"\n",
    "trace_files_infected = list_files_in_folder(infected_folder)"
   ]
  },
  {
   "cell_type": "code",
   "execution_count": 4,
   "metadata": {
    "ExecuteTime": {
     "end_time": "2024-06-07T17:13:57.418999Z",
     "start_time": "2024-06-07T17:13:56.859094Z"
    }
   },
   "outputs": [],
   "source": [
    "clean_trace_text_train = get_trace_text(clean_folder, trace_files_clean[:int(.75*len(trace_files_clean))])\n",
    "clean_trace_text_test = get_trace_text(clean_folder, trace_files_clean[int(.75*len(trace_files_clean)):])\n",
    "infected_trace_text = get_trace_text(infected_folder, trace_files_infected)"
   ]
  },
  {
   "cell_type": "code",
   "execution_count": 5,
   "metadata": {
    "ExecuteTime": {
     "end_time": "2024-06-07T17:14:07.326624Z",
     "start_time": "2024-06-07T17:13:59.037814Z"
    },
    "id": "X9mcmTWbpjah"
   },
   "outputs": [],
   "source": [
    "clean_syscall_info_train = parse_trace_text(clean_trace_text_train)\n",
    "clean_syscall_info_test = parse_trace_text(clean_trace_text_test)\n",
    "infected_syscall_info = parse_trace_text(infected_trace_text)"
   ]
  },
  {
   "cell_type": "code",
   "execution_count": 6,
   "metadata": {
    "ExecuteTime": {
     "end_time": "2024-06-07T17:14:08.684050Z",
     "start_time": "2024-06-07T17:14:08.672534Z"
    },
    "colab": {
     "base_uri": "https://localhost:8080/"
    },
    "id": "REB5IPu5rKr7",
    "outputId": "d75a4922-c0f4-45d6-825e-f9404e792337"
   },
   "outputs": [
    {
     "data": {
      "text/plain": [
       "['clock_gettime', 'CLOCK_MONOTONIC', '{249453', '99629866}']"
      ]
     },
     "execution_count": 6,
     "metadata": {},
     "output_type": "execute_result"
    }
   ],
   "source": [
    "infected_syscall_info[0]"
   ]
  },
  {
   "cell_type": "markdown",
   "metadata": {
    "id": "2EVXvBo0sb5X"
   },
   "source": [
    "## Data Preprocessing\n",
    "\n",
    "Here, we convert the parsed system call information into feature vectors suitable for the employed techniques."
   ]
  },
  {
   "cell_type": "code",
   "execution_count": 7,
   "metadata": {
    "ExecuteTime": {
     "end_time": "2024-06-07T17:15:32.641362Z",
     "start_time": "2024-06-07T17:14:47.957668Z"
    },
    "id": "iexYIs_Wppdb"
   },
   "outputs": [],
   "source": [
    "unique_syscall_types = list(set([info[0] for info in \n",
    "                                 clean_syscall_info_train + clean_syscall_info_test + infected_syscall_info]))\n",
    "\n",
    "syscall_type_mapping = {syscall_type: i for i, syscall_type in enumerate(unique_syscall_types)}\n",
    "\n",
    "padded_feature_vectors = []\n",
    "training_str_args = []\n",
    "max_len = 0\n",
    "\n",
    "for clean_file in trace_files_clean[:int(.75*len(trace_files_clean))]:\n",
    "    padded_feature_vectors_i, str_args_i, pad_len = process_trace(clean_folder, clean_file, syscall_type_mapping)\n",
    "    max_len = max(pad_len, max_len)\n",
    "    padded_feature_vectors.extend(padded_feature_vectors_i)\n",
    "    training_str_args.extend(str_args_i)\n",
    "    \n",
    "padded_feature_vectors = padding(padded_feature_vectors, max_len)"
   ]
  },
  {
   "cell_type": "markdown",
   "metadata": {},
   "source": [
    "### Modelling string argument lengths for buffer overflow detection"
   ]
  },
  {
   "cell_type": "code",
   "execution_count": 8,
   "metadata": {
    "ExecuteTime": {
     "end_time": "2024-06-07T17:16:00.568834Z",
     "start_time": "2024-06-07T17:16:00.320707Z"
    },
    "colab": {
     "base_uri": "https://localhost:8080/"
    },
    "id": "eYHw43Ke8toB",
    "outputId": "08b6e014-e966-49c5-ceb8-8b681e53ca35"
   },
   "outputs": [
    {
     "name": "stdout",
     "output_type": "stream",
     "text": [
      "Mean string length: 39.76; standard deviation 28.19\n"
     ]
    }
   ],
   "source": [
    "flattened_str_args = [arg for trace_str_args in training_str_args for arg in trace_str_args]\n",
    "init_strlen_distribution(flattened_str_args)"
   ]
  },
  {
   "cell_type": "code",
   "execution_count": 9,
   "metadata": {
    "ExecuteTime": {
     "end_time": "2024-06-07T17:16:02.451383Z",
     "start_time": "2024-06-07T17:16:02.438468Z"
    }
   },
   "outputs": [
    {
     "data": {
      "text/plain": [
       "False"
      ]
     },
     "execution_count": 9,
     "metadata": {},
     "output_type": "execute_result"
    }
   ],
   "source": [
    "### Example use-case; output = `True` if outlier\n",
    "\n",
    "detect_str_outlier(\"/Users/vismay/desktop/textbooks/Algorithmic Trading with Interactive Brokers.pdf\")"
   ]
  },
  {
   "cell_type": "markdown",
   "metadata": {
    "id": "72xMtwZUFKgn"
   },
   "source": [
    "## Self-Organizing Map for Pathname & Escape-Sequence Similarity\n",
    "\n",
    "A Self-Organizing Map (SOM) is used to encode and visualize the similarity of pathnames and escape sequences found in syscall string arguments"
   ]
  },
  {
   "cell_type": "code",
   "execution_count": 10,
   "metadata": {
    "ExecuteTime": {
     "end_time": "2024-06-07T17:16:32.579729Z",
     "start_time": "2024-06-07T17:16:28.505342Z"
    }
   },
   "outputs": [
    {
     "name": "stdout",
     "output_type": "stream",
     "text": [
      "=> Initializing Self-Organizing Map\n",
      "=> Shape of Map Weights: (10, 10, 5)\n",
      "=> Calculating threshold distance for anomaly detection\n",
      "=> Threshold distance: 0.4993256454327376\n"
     ]
    },
    {
     "data": {
      "image/png": "[encoded data removed]",
      "text/plain": [
       "<Figure size 500x500 with 2 Axes>"
      ]
     },
     "metadata": {},
     "output_type": "display_data"
    }
   ],
   "source": [
    "pathnames = list(filter(lambda s: \"/\" in s, flattened_str_args))\n",
    "init_som(pathnames)"
   ]
  },
  {
   "cell_type": "code",
   "execution_count": 11,
   "metadata": {
    "ExecuteTime": {
     "end_time": "2024-06-07T17:16:35.140571Z",
     "start_time": "2024-06-07T17:16:35.125847Z"
    }
   },
   "outputs": [
    {
     "name": "stdout",
     "output_type": "stream",
     "text": [
      "False\n",
      "False\n"
     ]
    }
   ],
   "source": [
    "### Example use-case; output = `True` if anomaly\n",
    "\n",
    "string_arr = ['/Users/vismay/PycharmProjects/subcom_internship/Traces/subcom_internship/Traces/']\n",
    "print(detect_string_anomaly_som(string_arr))\n",
    "\n",
    "string_arr = ['somuser/somedir/someapk/somefile']\n",
    "print(detect_string_anomaly_som(string_arr))"
   ]
  },
  {
   "cell_type": "markdown",
   "metadata": {
    "id": "0PeKYGu90NPq"
   },
   "source": [
    "## Syscall Probabilistic Subclustering\n",
    "\n",
    "Syscall feature vectors are clustered using Gaussian Mixture Models (GMM) or K-Means to create a probabilistic model for syscall behavior."
   ]
  },
  {
   "cell_type": "code",
   "execution_count": 12,
   "metadata": {
    "ExecuteTime": {
     "end_time": "2024-06-07T17:18:10.925319Z",
     "start_time": "2024-06-07T17:16:37.990516Z"
    },
    "colab": {
     "base_uri": "https://localhost:8080/"
    },
    "id": "qk4WuqjW4h-_",
    "outputId": "8bccecf4-c71d-4e0a-c70f-8068d6f0fac3",
    "scrolled": true
   },
   "outputs": [
    {
     "name": "stdout",
     "output_type": "stream",
     "text": [
      "=> Initializing cluster mapping\n",
      "=> Done!\n"
     ]
    }
   ],
   "source": [
    "syscall_to_cluster = init_cluster_mapping(padded_feature_vectors)"
   ]
  },
  {
   "cell_type": "code",
   "execution_count": 13,
   "metadata": {
    "ExecuteTime": {
     "end_time": "2024-06-07T17:20:00.334836Z",
     "start_time": "2024-06-07T17:18:10.929822Z"
    },
    "colab": {
     "background_save": true
    },
    "id": "_NM_vrRT4lOE"
   },
   "outputs": [],
   "source": [
    "training_states = features_to_states(padded_feature_vectors)"
   ]
  },
  {
   "cell_type": "markdown",
   "metadata": {
    "id": "XOkFPRVsQsch"
   },
   "source": [
    "## Markov Chain Construction\n",
    "\n",
    "A Markov Chain is constructed to model the transitions between syscall states (temporal dependencies)"
   ]
  },
  {
   "cell_type": "code",
   "execution_count": 14,
   "metadata": {
    "ExecuteTime": {
     "end_time": "2024-06-07T17:20:00.342520Z",
     "start_time": "2024-06-07T17:20:00.337928Z"
    }
   },
   "outputs": [],
   "source": [
    "n = 6"
   ]
  },
  {
   "cell_type": "code",
   "execution_count": 15,
   "metadata": {
    "ExecuteTime": {
     "end_time": "2024-06-07T17:20:02.002292Z",
     "start_time": "2024-06-07T17:20:00.345817Z"
    }
   },
   "outputs": [],
   "source": [
    "transition_probabilities = get_transition_probs(training_states, n)"
   ]
  },
  {
   "cell_type": "markdown",
   "metadata": {},
   "source": [
    "## Dos Detection with Edge Traversal Frequencies\n",
    "\n",
    "We analyze the frequencies of edge traversals in the Markov Chain to detect potential DoS attacks. The transition probabilities matrix used for training the markov chain is seperate from the ones used to train Dos Detection. In the markov chain training, we create a transition probability matrix for the entire training corpus (all trace text from designated clean training trace files). For DoS detection, we construct a transition probability matrix for each training clean trace in isolation and compute the frequency of edge traversals to obtain outliers by fitting a beta distribution."
   ]
  },
  {
   "cell_type": "code",
   "execution_count": 16,
   "metadata": {
    "ExecuteTime": {
     "end_time": "2024-06-07T17:20:02.432553Z",
     "start_time": "2024-06-07T17:20:02.003442Z"
    }
   },
   "outputs": [
    {
     "name": "stdout",
     "output_type": "stream",
     "text": [
      "Edge traversal training: 25% complete\n",
      "Edge traversal training: 50% complete\n",
      "Edge traversal training: 75% complete\n",
      "Edge traversal training: 100% complete\n"
     ]
    }
   ],
   "source": [
    "init_edge_frequencies(trace_files_clean, clean_folder, n, syscall_type_mapping)"
   ]
  },
  {
   "cell_type": "markdown",
   "metadata": {
    "id": "4XBxy2pR0SeD"
   },
   "source": [
    "## Anomaly Detection\n",
    "\n",
    "We combine all constructed models into a pipeline to detect anomalies in both clean and infected traces, calculating the probabilities of sequences being anomalous.\n",
    "\n",
    "*Note: the same clean traces have been used for each trial*"
   ]
  },
  {
   "cell_type": "code",
   "execution_count": 17,
   "metadata": {},
   "outputs": [],
   "source": [
    "initialize_pca()"
   ]
  },
  {
   "cell_type": "code",
   "execution_count": 18,
   "metadata": {
    "ExecuteTime": {
     "end_time": "2024-06-07T17:39:19.859049Z",
     "start_time": "2024-06-07T17:39:19.070599Z"
    },
    "colab": {
     "base_uri": "https://localhost:8080/"
    },
    "id": "b9TGn5MNbliE",
    "outputId": "83c9c252-c77e-442b-a3f1-8de4e168d60b"
   },
   "outputs": [
    {
     "name": "stdout",
     "output_type": "stream",
     "text": [
      "Clean traces: 25% complete\n",
      "Clean traces: 50% complete\n",
      "Clean traces: 75% complete\n",
      "Clean traces: 100% complete\n",
      "\n",
      "\n",
      "Infected traces: 25% complete\n",
      "Infected traces: 50% complete\n",
      "Infected traces: 75% complete\n",
      "Infected traces: 100% complete\n",
      "\n",
      "\n"
     ]
    },
    {
     "data": {
      "image/png": "[encoded data removed]",
      "text/plain": [
       "<Figure size 640x480 with 2 Axes>"
      ]
     },
     "metadata": {},
     "output_type": "display_data"
    },
    {
     "name": "stdout",
     "output_type": "stream",
     "text": [
      "TRIAL # 1 completed\n",
      "\n",
      "Clean traces: 25% complete\n",
      "Clean traces: 50% complete\n",
      "Clean traces: 75% complete\n",
      "Clean traces: 100% complete\n",
      "\n",
      "\n",
      "Infected traces: 25% complete\n",
      "Infected traces: 50% complete\n",
      "Infected traces: 75% complete\n",
      "Infected traces: 100% complete\n",
      "\n",
      "\n"
     ]
    },
    {
     "data": {
      "image/png": "[encoded data removed]",
      "text/plain": [
       "<Figure size 640x480 with 2 Axes>"
      ]
     },
     "metadata": {},
     "output_type": "display_data"
    },
    {
     "name": "stdout",
     "output_type": "stream",
     "text": [
      "TRIAL # 2 completed\n",
      "\n",
      "Clean traces: 25% complete\n",
      "Clean traces: 50% complete\n",
      "Clean traces: 75% complete\n",
      "Clean traces: 100% complete\n",
      "\n",
      "\n",
      "Infected traces: 25% complete\n",
      "Infected traces: 50% complete\n",
      "Infected traces: 75% complete\n",
      "Infected traces: 100% complete\n",
      "\n",
      "\n"
     ]
    },
    {
     "data": {
      "image/png": "[encoded data removed]",
      "text/plain": [
       "<Figure size 640x480 with 2 Axes>"
      ]
     },
     "metadata": {},
     "output_type": "display_data"
    },
    {
     "name": "stdout",
     "output_type": "stream",
     "text": [
      "TRIAL # 3 completed\n",
      "\n",
      "Clean traces: 25% complete\n",
      "Clean traces: 50% complete\n",
      "Clean traces: 75% complete\n",
      "Clean traces: 100% complete\n",
      "\n",
      "\n",
      "Infected traces: 25% complete\n",
      "Infected traces: 50% complete\n",
      "Infected traces: 75% complete\n",
      "Infected traces: 100% complete\n",
      "\n",
      "\n"
     ]
    },
    {
     "data": {
      "image/png": "[encoded data removed]",
      "text/plain": [
       "<Figure size 640x480 with 2 Axes>"
      ]
     },
     "metadata": {},
     "output_type": "display_data"
    },
    {
     "name": "stdout",
     "output_type": "stream",
     "text": [
      "TRIAL # 4 completed\n",
      "\n"
     ]
    }
   ],
   "source": [
    "SAMPLE_SIZE = int(.25*len(trace_files_clean))\n",
    "\n",
    "n = CONTEXT_SIZE = 6\n",
    " \n",
    "for trial in range(4):    \n",
    "    clean_cnt = 0\n",
    "    infected_cnt = 0\n",
    "    trace_files_infected_idx = np.random.randint(len(trace_files_infected) - SAMPLE_SIZE + 1)\n",
    "    \n",
    "    # clean files in test partition\n",
    "    counter = 0\n",
    "    for clean_file in trace_files_clean[len(trace_files_clean)-SAMPLE_SIZE:]:\n",
    "        counter += 1\n",
    "        features, str_args, _ = process_trace(clean_folder, clean_file, syscall_type_mapping)\n",
    "        prob1, prob2 = sequence_probability(features, str_args, n, syscall_to_cluster, transition_probabilities)\n",
    "        if prob1 < 0.5 or prob2 < 0.5:\n",
    "            clean_cnt += 1\n",
    "        if counter % int(0.25*SAMPLE_SIZE) == 0:\n",
    "            print(f'Clean traces: {counter//int(0.25*SAMPLE_SIZE)*25}% complete')\n",
    "    \n",
    "    print('\\n')\n",
    "    \n",
    "    # infected files\n",
    "    counter = 0\n",
    "    for infected_file in trace_files_infected[trace_files_infected_idx:trace_files_infected_idx+SAMPLE_SIZE]:\n",
    "        counter += 1\n",
    "        features, str_args, _ = process_trace(infected_folder, infected_file, syscall_type_mapping)\n",
    "        prob1, prob2 = sequence_probability(features, str_args, n, syscall_to_cluster, transition_probabilities)\n",
    "        if prob1 < 0.5 or prob2 < 0.5:\n",
    "            infected_cnt += 1\n",
    "        if counter % int(0.25*SAMPLE_SIZE) == 0:\n",
    "            print(f'Infected traces: {counter//int(0.25*SAMPLE_SIZE)*25}% complete')\n",
    "    \n",
    "    TP = infected_cnt\n",
    "    FP = clean_cnt\n",
    "    \n",
    "    FN = SAMPLE_SIZE - infected_cnt\n",
    "    TN = SAMPLE_SIZE - clean_cnt\n",
    "    \n",
    "    # label 1: infected\n",
    "    # label 0: clean\n",
    "    \n",
    "    TPR = TP / (TP + FN)\n",
    "    FPR = FP / (FP + TN)\n",
    "    \n",
    "    conf_matrix = [[TN, FP], [FN, TP]]\n",
    "    ACC = (TP + TN) / (TP + TN + FP + FN)\n",
    "    \n",
    "    print('\\n')\n",
    "    plt.figure()\n",
    "    sns.heatmap(conf_matrix, annot=True, cmap='Blues', fmt='g')\n",
    "    plt.xlabel('Predicted Labels')\n",
    "    plt.ylabel('True Labels')\n",
    "    plt.title(f'Accuracy = {math.floor(ACC*100)}%')\n",
    "    \n",
    "    plt.show();\n",
    "    \n",
    "    print(f\"TRIAL # {trial+1} completed\\n\")"
   ]
  }
 ],
 "metadata": {
  "colab": {
   "provenance": []
  },
  "kernelspec": {
   "display_name": "Python 3 (ipykernel)",
   "language": "python",
   "name": "python3"
  },
  "language_info": {
   "codemirror_mode": {
    "name": "ipython",
    "version": 3
   },
   "file_extension": ".py",
   "mimetype": "text/x-python",
   "name": "python",
   "nbconvert_exporter": "python",
   "pygments_lexer": "ipython3",
   "version": "3.9.17"
  }
 },
 "nbformat": 4,
 "nbformat_minor": 4
}
